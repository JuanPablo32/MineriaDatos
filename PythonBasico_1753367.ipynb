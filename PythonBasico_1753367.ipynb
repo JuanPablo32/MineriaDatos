{
 "cells": [
  {
   "cell_type": "markdown",
   "metadata": {},
   "source": [
    "# Ejercicio 1:\n",
    "Realiza una variable con tu matricula y realiza una secuencia de imprimir con tu nombre y tu matricula concatenados."
   ]
  },
  {
   "cell_type": "code",
   "execution_count": 1,
   "metadata": {},
   "outputs": [
    {
     "name": "stdout",
     "output_type": "stream",
     "text": [
      "1 Juan Pablo Nasser Benavides  1753367\n",
      "\n",
      "2 Juan Pablo Nasser Benavides 1753367\n"
     ]
    }
   ],
   "source": [
    "e = \"Juan Pablo Nasser Benavides \"\n",
    "matricula = 1753367\n",
    "\n",
    "print(1,e, matricula)\n",
    "print(\"\")\n",
    "#Otra manera de observar la concatenacion\n",
    "print(2,e+str(matricula))"
   ]
  },
  {
   "cell_type": "markdown",
   "metadata": {},
   "source": [
    "# Ejercicio 2:\n",
    "Pidiendo el input des usuario pide dos números y crea una pequeña calculadora con los operadores básicos de suma, resta, multiplicacion, division, y exponente."
   ]
  },
  {
   "cell_type": "code",
   "execution_count": 2,
   "metadata": {},
   "outputs": [
    {
     "name": "stdout",
     "output_type": "stream",
     "text": [
      "Introduce el primer número  (a): 2\n",
      "Introduce el segundo número (b): 3\n",
      "\n",
      "La suma es:  5\n",
      "La resta es:  -1\n",
      "La multiplicación es:  6\n",
      "La división es:  0.6666666666666666\n",
      "El exponente es:  8\n"
     ]
    }
   ],
   "source": [
    "a = int(input(\"Introduce el primer número  (a): \"))\n",
    "b = int(input(\"Introduce el segundo número (b): \"))\n",
    "\n",
    "c = a+b\n",
    "d = a-b\n",
    "e = a*b\n",
    "f = a/b\n",
    "g = a**b\n",
    "\n",
    "\n",
    "print()\n",
    "print (\"La suma es: \",c)\n",
    "print (\"La resta es: \",d)\n",
    "print (\"La multiplicación es: \",e)\n",
    "print (\"La división es: \",f)\n",
    "print (\"El exponente es: \",g)"
   ]
  },
  {
   "cell_type": "markdown",
   "metadata": {},
   "source": [
    "# Ejercicio 3:\n",
    "Con loop while o for, realiza una lista de 10 numeros multiplos de 3, y después realiza una función de loop que sume todos los números dentro del arreglo."
   ]
  },
  {
   "cell_type": "code",
   "execution_count": 3,
   "metadata": {},
   "outputs": [
    {
     "name": "stdout",
     "output_type": "stream",
     "text": [
      "[3, 6, 9, 12, 15, 18, 21, 24, 27, 30]\n",
      "\n",
      "La suma de mis números multiplos de 3 es:  165\n"
     ]
    }
   ],
   "source": [
    "cont = 0\n",
    "lista=[i*3 for i in range(1,11)]\n",
    "print (lista)\n",
    "    \n",
    "for i in range(len(lista)):\n",
    "    cont = cont + lista[i]\n",
    "\n",
    "print()\n",
    "print (\"La suma de mis números multiplos de 3 es: \",cont)"
   ]
  },
  {
   "cell_type": "markdown",
   "metadata": {},
   "source": [
    "# Ejercicio 4 (a)\n",
    "Con una función de if else, revisar si un número es par o es impar."
   ]
  },
  {
   "cell_type": "code",
   "execution_count": 4,
   "metadata": {},
   "outputs": [
    {
     "name": "stdout",
     "output_type": "stream",
     "text": [
      "Ingrese un número: 2\n",
      "\n",
      "El numero es par\n"
     ]
    }
   ],
   "source": [
    "a = int(input (\"Ingrese un número: \"))\n",
    "\n",
    "if a%2==0:\n",
    "    print()\n",
    "    print (\"El numero es par\")\n",
    "else: \n",
    "    print()\n",
    "    print (\"El numero es impar\")"
   ]
  },
  {
   "cell_type": "markdown",
   "metadata": {},
   "source": [
    "# Ejercicio 4 (b) \n",
    "Con una función de if else, revisar si un número es primo o no."
   ]
  },
  {
   "cell_type": "code",
   "execution_count": 6,
   "metadata": {},
   "outputs": [
    {
     "name": "stdout",
     "output_type": "stream",
     "text": [
      "Ingrese un numero: 7\n",
      "Es un número primo.\n"
     ]
    }
   ],
   "source": [
    "num = int(input(\"Ingrese un numero: \"))\n",
    "cont = 0\n",
    "\n",
    "for n in range(1, num + 1):\n",
    "    if num%n == 0:\n",
    "     cont = cont+1\n",
    "\n",
    "if cont == 2:\n",
    "    \n",
    "    print( \"Es un número primo.\")\n",
    "else:\n",
    "    print()\n",
    "    print( \"No es un número primo.\")"
   ]
  },
  {
   "cell_type": "markdown",
   "metadata": {},
   "source": [
    "# Ejercicio 5:\n",
    "Utilizando diferentes clases en python, crea una calculadora con los operadores básicos de suma, resta, multiplicación, división, y exponente."
   ]
  },
  {
   "cell_type": "code",
   "execution_count": 7,
   "metadata": {},
   "outputs": [
    {
     "name": "stdout",
     "output_type": "stream",
     "text": [
      "MENU\n",
      "\n",
      "1.Suma\n",
      "2.Resta\n",
      "3.Multiplicación\n",
      "4.División\n",
      "5.Exponente\n",
      "6.Salir\n",
      "\n",
      "¿Qué desea realizar?: 3\n",
      "\n",
      "Ingrese un numéro: 5\n",
      "Ingrese un segundo número: 9\n",
      "\n",
      "Multiplicación = 45\n"
     ]
    }
   ],
   "source": [
    "def Suma(a,b):\n",
    "    c=a+b\n",
    "    return c\n",
    "def Resta(a,b):\n",
    "    c=a-b\n",
    "    return c\n",
    "def Multiplicacion(a,b):\n",
    "    c=a*b\n",
    "    return c\n",
    "def División(a,b):\n",
    "    c=a/b\n",
    "def Suma(a,b):\n",
    "    c=a+b\n",
    "    return c\n",
    "def Resta(a,b):\n",
    "    c=a-b\n",
    "    return c\n",
    "def Multiplicacion(a,b):\n",
    "    c=a*b\n",
    "    return c\n",
    "def División(a,b):\n",
    "    c=a/b\n",
    "    return c\n",
    "def Exponente(a,b):\n",
    "    c=a**b\n",
    "    return c\n",
    "\n",
    "def Menu():  \n",
    "    print (\"MENU\\n\\n1.Suma\\n2.Resta\\n3.Multiplicación\\n4.División\\n5.Exponente\\n6.Salir\")\n",
    "def Calculadora():\n",
    "    Menu()\n",
    "    print()\n",
    "    opc = int(input(\"¿Qué desea realizar?: \"))\n",
    "    print()\n",
    "    a = int(input(\"Ingrese un numéro: \"))\n",
    "    b = int(input(\"Ingrese un segundo número: \"))\n",
    "    while (opc >0 and opc <6):\n",
    "        if (opc==1):\n",
    "            print()\n",
    "            print (\"Suma = \",Suma(a,b))\n",
    "            break\n",
    "        elif(opc==2):\n",
    "            print()\n",
    "            print (\"Resta =\",Resta(a,b))\n",
    "            break\n",
    "        elif(opc==3):\n",
    "            print()\n",
    "            print (\"Multiplicación =\", Multiplicacion(a,b))\n",
    "            break\n",
    "        elif(opc==4):\n",
    "            print()\n",
    "            print (\"División = \", Division(a,b))\n",
    "            break            \n",
    "        elif(opc==5):\n",
    "            print()\n",
    "            print (\"Exponente =\", Exponente(a,b))\n",
    "            break\n",
    "            \n",
    "Calculadora()\n"
   ]
  },
  {
   "cell_type": "markdown",
   "metadata": {},
   "source": [
    "# Tuplas\n",
    "Crear una variable flotante, integer, boleana y compleja e imprimir el tipo de variable que es."
   ]
  },
  {
   "cell_type": "code",
   "execution_count": 9,
   "metadata": {},
   "outputs": [
    {
     "name": "stdout",
     "output_type": "stream",
     "text": [
      "\n",
      "2.7384 <class 'float'>\n",
      "22     <class 'int'>\n",
      "True   <class 'bool'>\n",
      "(1+2j) <class 'complex'>\n"
     ]
    }
   ],
   "source": [
    "Flotante = 2.7384\n",
    "Integer = 22\n",
    "Boleana = True\n",
    "Compleja = 1+2j\n",
    "\n",
    "print()\n",
    "print(Flotante, type(Flotante))\n",
    "print(Integer,(\"   \"),  type(Integer))\n",
    "print(Boleana,(\" \"),  type(Boleana))\n",
    "print(Compleja, type(Compleja))"
   ]
  },
  {
   "cell_type": "markdown",
   "metadata": {},
   "source": [
    "Crear una tupla con valores enteros imprimir el primer y ultimo valor.\n",
    "\n",
    "Añadir 3 valores de string a la tupla\n",
    "\n",
    "Verificar si una variable existe dentro de la tupla."
   ]
  },
  {
   "cell_type": "code",
   "execution_count": 10,
   "metadata": {},
   "outputs": [
    {
     "name": "stdout",
     "output_type": "stream",
     "text": [
      "Primer valor del vector:  10\n",
      "Ultimo valor del vector:  4\n",
      "\n",
      "(10, 7, 8, 6, 2, 6, 2, 6, 3, 5, 1, 5, 0, 2, 5, 4, 2, 4, 6, 9, 2, 0, 4, 'Mineria', 'De', 'Datos')\n"
     ]
    },
    {
     "data": {
      "text/plain": [
       "True"
      ]
     },
     "execution_count": 10,
     "metadata": {},
     "output_type": "execute_result"
    }
   ],
   "source": [
    "a=[10,7,8,6,2,6,2,6,3,5,1,5,0,2,5,4,2,4,6,9,2,0,4]\n",
    "\n",
    "a=tuple(a)\n",
    "primernum = a[0]\n",
    "ultimonum = a [-1]\n",
    "\n",
    "print (\"Primer valor del vector: \",primernum)\n",
    "print (\"Ultimo valor del vector: \",ultimonum)\n",
    "\n",
    "print()\n",
    "print(a+('Mineria','De','Datos'))\n",
    "\n",
    "6 in a"
   ]
  },
  {
   "cell_type": "markdown",
   "metadata": {},
   "source": [
    "# Listas\n",
    "Crear una lista con 40 elementos aleatorios enteros.\n",
    "\n",
    "Con una funcion (def) crear dos listas nuevas a partir de la lista creada por numeros aleatorios, en la cual en una esten los elementos pares, y en la otra los elementos impares.\n",
    "\n",
    "Crear dos variables con la longitud de ambas listas nuevas e imprimir las variables\n",
    "\n",
    "Ordenar los elementos de la lista par de mayor a menor, y los de la lista impar de menor a mayor.\n",
    "\n",
    "Utilizar al menos cuatro de las funciones de listas en python en la lista original de 40 elementos."
   ]
  },
  {
   "cell_type": "code",
   "execution_count": 11,
   "metadata": {},
   "outputs": [
    {
     "name": "stdout",
     "output_type": "stream",
     "text": [
      "[2, 20, 20, 5, 1, 3, 4, 3, 1, 17, 19, 9, 9, 3, 6, 20, 14, 13, 1, 20, 7, 10, 2, 17, 20, 5, 17, 10, 11, 5, 7, 9, 2, 19, 14, 12, 6, 6, 9, 4]\n",
      "\n",
      "Lista de los números pares:  [2, 20, 20, 4, 6, 20, 14, 20, 10, 2, 20, 10, 2, 14, 12, 6, 6, 4]\n",
      "\n",
      "Lista de los números impares:  [5, 1, 3, 3, 1, 17, 19, 9, 9, 3, 13, 1, 7, 17, 5, 17, 11, 5, 7, 9, 19, 9]\n",
      "\n",
      "Existe la longitud de pares:  18\n",
      "\n",
      "Existe la longitud de impares:  22\n",
      "\n",
      "[2, 20, 20, 5, 1, 3, 4, 3, 1, 17, 19, 9, 9, 3, 6, 20, 14, 13, 1, 20, 7, 10, 2, 17, 20, 5, 17, 10, 11, 5, 7, 9, 2, 19, 14, 12, 6, 6, 9, 4]\n",
      "\n",
      "[1, 3, 4, 3]\n",
      "\n",
      "[2, 20, 20, 5, 3, 1, 3, 4, 3, 1, 17, 19, 9, 9, 3, 6, 20, 14, 13, 1, 20, 7, 10, 2, 17, 20, 5, 17, 10, 11, 5, 7, 9, 2, 19, 14, 12, 6, 6, 9, 4]\n",
      "\n",
      "[2, 20, 20, 5, 3, 1, 3, 4, 3, 1, 17, 19, 9, 9, 3, 6, 20, 14, 13, 1, 20, 7, 10, 2, 17, 20, 5, 17, 10, 11, 5, 7, 9, 2, 19, 14, 12, 6, 6, 9, 4, 5]\n"
     ]
    }
   ],
   "source": [
    "import random as r\n",
    "\n",
    "lista=[r.randint(1,20) for i in range(40)]\n",
    "print (lista)\n",
    "\n",
    "def NumParImp(lista):\n",
    "    impares=[]\n",
    "    pares=[]\n",
    "    for i in range(len(lista)):\n",
    "        if lista[i]%2==0:\n",
    "            pares.append(lista[i])\n",
    "        else:\n",
    "            impares.append(lista[i])\n",
    "    return pares,impares\n",
    "\n",
    "pares,impares=NumParImp(lista)\n",
    "print()\n",
    "print(\"Lista de los números pares: \",pares)\n",
    "print()\n",
    "print(\"Lista de los números impares: \",impares)\n",
    "\n",
    "par=len(pares)\n",
    "print ()\n",
    "print (\"Existe la longitud de pares: \", par)\n",
    "\n",
    "impar=len(impares)\n",
    "print()\n",
    "print (\"Existe la longitud de impares: \", impar)\n",
    "\n",
    "# Para hacer mi primer número a 2\n",
    "lista[0]=2\n",
    "print()\n",
    "print (lista)\n",
    "\n",
    "# Imprimir los numeros indicados\n",
    "print()\n",
    "print (lista[4:8])\n",
    "\n",
    "# Insertar un nuevo dato a la lista\n",
    "print()\n",
    "lista.insert(4,3)\n",
    "print (lista)\n",
    "\n",
    "# Para agregar un nuevo dato en el final de mi vector\n",
    "print()\n",
    "lista.append(5)\n",
    "print (lista)"
   ]
  },
  {
   "cell_type": "markdown",
   "metadata": {},
   "source": [
    "# Diccionarios\n",
    "Crear un diccionario de 6 personas que conozcas con su primer nombre y su edad.\n",
    "\n",
    "Crear una lista con los valores de la edad y reacomodar la lista de menor a mayor valor\n",
    "\n",
    "Usando el diccionario y un loop, imprimir solo los nombres\n",
    "\n",
    "Añadir dos personas nuevas a tu diccionario, incluyendo edad"
   ]
  },
  {
   "cell_type": "code",
   "execution_count": 13,
   "metadata": {},
   "outputs": [
    {
     "name": "stdout",
     "output_type": "stream",
     "text": [
      "[21, 24, 22, 48, 60, 16]\n",
      "\n",
      "[16, 21, 22, 24, 48, 60]\n",
      "\n",
      "Juan\n",
      "Angela\n",
      "Eduardo\n",
      "Maria\n",
      "Guillermo\n",
      "Jose\n",
      "\n",
      "{'Juan': 21, 'Angela': 24, 'Eduardo': 22, 'Maria': 48, 'Guillermo': 60, 'Jose': 16, 'Eugenia': 19, 'Luis': 21}\n"
     ]
    }
   ],
   "source": [
    "dicc ={\"Juan\":21,\"Angela\":24,\"Eduardo\":22,\"Maria\":48,\"Guillermo\":60,\"Jose\":16}\n",
    "\n",
    "edad = [i for i in dicc.values()]\n",
    "print (edad)\n",
    "\n",
    "print()\n",
    "edad.sort()\n",
    "print (edad)\n",
    "\n",
    "print()\n",
    "for i in dicc:\n",
    "    print (i)\n",
    "    \n",
    "print()\n",
    "dicc[\"Eugenia\"]=19\n",
    "dicc[\"Luis\"]=21\n",
    "\n",
    "print (dicc)"
   ]
  },
  {
   "cell_type": "markdown",
   "metadata": {},
   "source": [
    "# Sets\n",
    "Crea un set con 100 numeros aleatorios enteros del 1 al 25.\n",
    "\n",
    "Comprueba la longitud de tu set\n",
    "\n",
    "Crea una lista de 5 numeros aleatorios del 1 al 10 y comprueba si cada valor aparece en el set inicial."
   ]
  },
  {
   "cell_type": "code",
   "execution_count": 15,
   "metadata": {},
   "outputs": [
    {
     "name": "stdout",
     "output_type": "stream",
     "text": [
      "{1, 2, 3, 4, 5, 6, 7, 8, 9, 10, 11, 12, 13, 14, 15, 16, 17, 18, 19, 20, 21, 22, 23, 24}\n",
      "\n",
      "24\n",
      "\n",
      "[10, 8, 2, 6, 2]\n",
      "\n",
      "Si existe:  10 True\n",
      "Si existe:  8 True\n",
      "Si existe:  2 True\n",
      "Si existe:  6 True\n",
      "Si existe:  2 True\n"
     ]
    }
   ],
   "source": [
    "import random as r\n",
    "\n",
    "a={r.randint(1,25) for i in range(100)}\n",
    "print (a)    \n",
    "\n",
    "print()\n",
    "print (len (a))\n",
    "\n",
    "print()\n",
    "b=[r.randint(1,10) for i in range(5)]\n",
    "print (b)\n",
    "\n",
    "print()\n",
    "for i in range(len(b)):\n",
    "    print(\"Si existe: \", b[i], b[i] in a)"
   ]
  },
  {
   "cell_type": "code",
   "execution_count": null,
   "metadata": {},
   "outputs": [],
   "source": []
  }
 ],
 "metadata": {
  "kernelspec": {
   "display_name": "Python 3",
   "language": "python",
   "name": "python3"
  },
  "language_info": {
   "codemirror_mode": {
    "name": "ipython",
    "version": 3
   },
   "file_extension": ".py",
   "mimetype": "text/x-python",
   "name": "python",
   "nbconvert_exporter": "python",
   "pygments_lexer": "ipython3",
   "version": "3.8.3"
  }
 },
 "nbformat": 4,
 "nbformat_minor": 2
}
